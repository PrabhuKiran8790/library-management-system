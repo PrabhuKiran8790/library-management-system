{
 "cells": [
  {
   "cell_type": "code",
   "execution_count": 1,
   "metadata": {},
   "outputs": [],
   "source": [
    "from models import Library, Book, Ebook"
   ]
  },
  {
   "cell_type": "code",
   "execution_count": 3,
   "metadata": {},
   "outputs": [
    {
     "name": "stdout",
     "output_type": "stream",
     "text": [
      "Title: The Python Programming Language, Author: Guido van Rossum, ISBN: 9780134076430\n",
      "Title: Introduction to Machine Learning, Author: Andrew Ng, ISBN: 9781119545560\n",
      "Title: Learn Python the Hard Way, Author: Zed Shaw, ISBN: 9780321884916, File Format: PDF\n",
      "Title: Dive into Python 3, Author: Mark Pilgrim, ISBN: 9781590593561, File Format: EPUB\n",
      "Not Found \n",
      " No books found with title 'Automate the Boring Stuff with Python'\n",
      "Found Book \n",
      "Title: Dive into Python 3, Author: Mark Pilgrim, ISBN: 9781590593561, File Format: EPUB\n"
     ]
    }
   ],
   "source": [
    "# Example usage:\n",
    "library = Library()\n",
    "\n",
    "book1 = Book(\"The Python Programming Language\", \"Guido van Rossum\", 9780134076430)\n",
    "book2 = Book(\"Introduction to Machine Learning\", \"Andrew Ng\", 9781119545560)\n",
    "\n",
    "ebook1 = Ebook(\"Learn Python the Hard Way\", \"Zed Shaw\", 9780321884916, \"PDF\")\n",
    "ebook2 = Ebook(\"Dive into Python 3\", \"Mark Pilgrim\", 9781590593561, \"EPUB\")\n",
    "\n",
    "library.add_book(book1)\n",
    "library.add_book(book2)\n",
    "library.add_book(ebook1)\n",
    "library.add_book(ebook2)\n",
    "\n",
    "library.display_books()\n",
    "\n",
    "book_titles = [\n",
    "    \"Automate the Boring Stuff with Python\",\n",
    "    \"Dive into Python 3\"\n",
    "]\n",
    "\n",
    "for title in book_titles:\n",
    "    try:\n",
    "        found_book = library.search_by_title(title)\n",
    "        print(f\"Found Book \\n{found_book.display_info()}\")\n",
    "    except Library.BookNotFound as e:\n",
    "        print(\"Not Found \\n\", e)"
   ]
  },
  {
   "cell_type": "code",
   "execution_count": null,
   "metadata": {},
   "outputs": [],
   "source": []
  }
 ],
 "metadata": {
  "kernelspec": {
   "display_name": "Python 3",
   "language": "python",
   "name": "python3"
  },
  "language_info": {
   "codemirror_mode": {
    "name": "ipython",
    "version": 3
   },
   "file_extension": ".py",
   "mimetype": "text/x-python",
   "name": "python",
   "nbconvert_exporter": "python",
   "pygments_lexer": "ipython3",
   "version": "3.9.6"
  }
 },
 "nbformat": 4,
 "nbformat_minor": 2
}
